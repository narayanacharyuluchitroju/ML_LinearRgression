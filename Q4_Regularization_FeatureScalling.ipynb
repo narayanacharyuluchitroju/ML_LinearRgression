{
 "cells": [
  {
   "cell_type": "code",
   "execution_count": 37,
   "outputs": [],
   "source": [
    "import random\n",
    "import pandas as pd\n",
    "import numpy as np\n",
    "from matplotlib import pyplot as plt\n",
    "import seaborn as sn\n",
    "\n",
    "\n",
    "data = pd.read_csv(\"cancer_dataset_wpbc.csv\")\n",
    "data = data.dropna()"
   ],
   "metadata": {
    "collapsed": false,
    "ExecuteTime": {
     "end_time": "2023-09-26T02:04:27.906314Z",
     "start_time": "2023-09-26T02:04:27.866206Z"
    }
   },
   "id": "3bdd5e0755d3e5a8"
  },
  {
   "cell_type": "code",
   "execution_count": 38,
   "id": "initial_id",
   "metadata": {
    "collapsed": true,
    "ExecuteTime": {
     "end_time": "2023-09-26T02:04:30.082253Z",
     "start_time": "2023-09-26T02:04:28.037373Z"
    }
   },
   "outputs": [
    {
     "name": "stdout",
     "output_type": "stream",
     "text": [
      "Converged after 826 iterations.\n",
      "Mean Squared Error (MSE): 3.7748589322066457\n",
      "R-squared Error: 0.015700220300756795\n",
      "Adjusted R-squared Error: -0.05721087449177964\n",
      "Converged after 2787 iterations.\n",
      "Mean Squared Error (MSE): 3.7448012975753944\n",
      "R-squared Error: 0.02353779083707519\n",
      "Adjusted R-squared Error: -0.04879274317499327\n",
      "Converged after 4699 iterations.\n",
      "Mean Squared Error (MSE): 3.7127434961211216\n",
      "R-squared Error: 0.031896907687737786\n",
      "Adjusted R-squared Error: -0.039814432483540996\n",
      "Converged after 5131 iterations.\n",
      "Mean Squared Error (MSE): 3.7065019361500404\n",
      "R-squared Error: 0.03352440323521333\n",
      "Adjusted R-squared Error: -0.03806638171032639\n",
      "Converged after 5181 iterations.\n",
      "Mean Squared Error (MSE): 3.7058134611574225\n",
      "R-squared Error: 0.03370392405856937\n",
      "Adjusted R-squared Error: -0.03787356304820322\n",
      "Converged after 5186 iterations.\n",
      "Mean Squared Error (MSE): 3.705744616674873\n",
      "R-squared Error: 0.03372187535429283\n",
      "Adjusted R-squared Error: -0.0378542820268708\n",
      "Converged after 5186 iterations.\n",
      "Mean Squared Error (MSE): 3.705742146645506\n",
      "R-squared Error: 0.03372251941792703\n",
      "Adjusted R-squared Error: -0.03785359025481916\n"
     ]
    },
    {
     "data": {
      "text/plain": "        MSE  R2 Error  Adj R2 Error    Lambda\n0  3.774859  0.015700     -0.057211  10.00000\n1  3.744801  0.023538     -0.048793   1.00000\n2  3.712743  0.031897     -0.039814   0.10000\n3  3.706502  0.033524     -0.038066   0.01000\n4  3.705813  0.033704     -0.037874   0.00100\n5  3.705745  0.033722     -0.037854   0.00010\n6  3.705742  0.033723     -0.037854   0.00001",
      "text/html": "<div>\n<style scoped>\n    .dataframe tbody tr th:only-of-type {\n        vertical-align: middle;\n    }\n\n    .dataframe tbody tr th {\n        vertical-align: top;\n    }\n\n    .dataframe thead th {\n        text-align: right;\n    }\n</style>\n<table border=\"1\" class=\"dataframe\">\n  <thead>\n    <tr style=\"text-align: right;\">\n      <th></th>\n      <th>MSE</th>\n      <th>R2 Error</th>\n      <th>Adj R2 Error</th>\n      <th>Lambda</th>\n    </tr>\n  </thead>\n  <tbody>\n    <tr>\n      <th>0</th>\n      <td>3.774859</td>\n      <td>0.015700</td>\n      <td>-0.057211</td>\n      <td>10.00000</td>\n    </tr>\n    <tr>\n      <th>1</th>\n      <td>3.744801</td>\n      <td>0.023538</td>\n      <td>-0.048793</td>\n      <td>1.00000</td>\n    </tr>\n    <tr>\n      <th>2</th>\n      <td>3.712743</td>\n      <td>0.031897</td>\n      <td>-0.039814</td>\n      <td>0.10000</td>\n    </tr>\n    <tr>\n      <th>3</th>\n      <td>3.706502</td>\n      <td>0.033524</td>\n      <td>-0.038066</td>\n      <td>0.01000</td>\n    </tr>\n    <tr>\n      <th>4</th>\n      <td>3.705813</td>\n      <td>0.033704</td>\n      <td>-0.037874</td>\n      <td>0.00100</td>\n    </tr>\n    <tr>\n      <th>5</th>\n      <td>3.705745</td>\n      <td>0.033722</td>\n      <td>-0.037854</td>\n      <td>0.00010</td>\n    </tr>\n    <tr>\n      <th>6</th>\n      <td>3.705742</td>\n      <td>0.033723</td>\n      <td>-0.037854</td>\n      <td>0.00001</td>\n    </tr>\n  </tbody>\n</table>\n</div>"
     },
     "execution_count": 38,
     "metadata": {},
     "output_type": "execute_result"
    }
   ],
   "source": [
    "from LinearRegression_Regularized import LR_4var\n",
    "\n",
    "lamda_tp = [10, 1, 0.1, 0.01,0.001,0.0001,0.00001]\n",
    "mse_l = []\n",
    "r2_err_l = []\n",
    "adj_r2_err_l = []\n",
    "\n",
    "for i in lamda_tp:\n",
    "    X1 = np.array(data['Worst Symmetry'].values).reshape(-1,1)\n",
    "    X2 = np.array(data['Mean Symmetry'].values).reshape(-1,1)\n",
    "    X3 = np.array(data['Lymph Node Status'].values).reshape(-1,1)\n",
    "    X4 = np.array(data['Mean Fractal Dimension'].values).reshape(-1,1)\n",
    "    Y = np.array(data['Tumor Size'].values).reshape(-1,1)\n",
    "    \n",
    "    split_ratio = 0.7\n",
    "    learning_rate = 0.05\n",
    "    num_iter = 100000\n",
    "    threshold = 0.000001\n",
    "    model = LR_4var(data,X1,X2,X3,X4,Y,split_ratio,learning_rate,i,num_iter,threshold)\n",
    "    model.train()\n",
    "    mse,r2_err,adj_r2_err = model.predict()\n",
    "    mse_l.append(mse)\n",
    "    r2_err_l.append(r2_err)\n",
    "    adj_r2_err_l.append(adj_r2_err)\n",
    "\n",
    "pd_data = {\n",
    "    'MSE': mse_l,\n",
    "    'R2 Error': r2_err_l,\n",
    "    'Adj R2 Error': adj_r2_err_l,\n",
    "    'Lambda': lamda_tp\n",
    "}\n",
    "\n",
    "metrics = pd.DataFrame(pd_data)\n",
    "metrics\n"
   ]
  },
  {
   "cell_type": "markdown",
   "source": [
    "### Obseravtion\n",
    "\n",
    "when regularization does not lead to a significant improvement in model metrics or performance, it suggests that the initial model may have been well-suited for the data, the regularization strength or technique might need adjustment, or other aspects of the modeling process, such as data quality and feature engineering, should be examined for potential improvements."
   ],
   "metadata": {
    "collapsed": false
   },
   "id": "4faad7c27727dd24"
  },
  {
   "cell_type": "markdown",
   "source": [
    "### Q4 B - Feature Scaling"
   ],
   "metadata": {
    "collapsed": false
   },
   "id": "68235b597678cdbd"
  },
  {
   "cell_type": "code",
   "execution_count": 39,
   "outputs": [
    {
     "name": "stdout",
     "output_type": "stream",
     "text": [
      "Converged after 201334 iterations.\n",
      "Mean Squared Error (MSE): 3.3436769563712065\n",
      "R-squared Error: 0.12813152738989642\n",
      "Adjusted R-squared Error: 0.06354867756692573\n"
     ]
    }
   ],
   "source": [
    "from LinearRegression import LR_4var\n",
    "\n",
    "X1 = np.array(data['Worst Symmetry'].values).reshape(-1,1)\n",
    "X2 = np.array(data['Mean Symmetry'].values).reshape(-1,1)\n",
    "X3 = np.array(data['Lymph Node Status'].values).reshape(-1,1)\n",
    "X4 = np.array(data['Mean Fractal Dimension'].values).reshape(-1,1)\n",
    "Y = np.array(data['Tumor Size'].values).reshape(-1,1)\n",
    "\n",
    "\n",
    "### Feature Scaling:\n",
    "\n",
    "X1 = (X1 - np.mean(X1))/(np.max(X1) - np.min(X1))\n",
    "X2 = (X2 - np.mean(X2))/(np.max(X2) - np.min(X2))\n",
    "X3 = (X3 - np.mean(X3))/(np.max(X3) - np.min(X3))\n",
    "X4 = (X4 - np.mean(X4))/(np.max(X4) - np.min(X4))\n",
    "\n",
    "\n",
    "split_ratio = 0.7\n",
    "learning_rate = 0.0001\n",
    "num_iter = 10000000\n",
    "threshold = 0.000001\n",
    "model = LR_4var(data, X1, X2, X3,X4,Y, split_ratio, learning_rate, num_iter, threshold)\n",
    "model.train()\n",
    "mse, r2_err, adj_r2_err = model.predict()\n"
   ],
   "metadata": {
    "collapsed": false,
    "ExecuteTime": {
     "end_time": "2023-09-26T02:04:44.863079Z",
     "start_time": "2023-09-26T02:04:30.133821Z"
    }
   },
   "id": "3d7ec7d2d7776413"
  },
  {
   "cell_type": "markdown",
   "source": [
    "### Observation\n",
    "The enhancement of metrics and the overall improvement in model performance suggest that feature scaling has been beneficial and effective. "
   ],
   "metadata": {
    "collapsed": false
   },
   "id": "2f051aae80743a57"
  },
  {
   "cell_type": "code",
   "execution_count": 39,
   "outputs": [],
   "source": [],
   "metadata": {
    "collapsed": false,
    "ExecuteTime": {
     "end_time": "2023-09-26T02:04:44.873055Z",
     "start_time": "2023-09-26T02:04:44.846138Z"
    }
   },
   "id": "7b9a8eb8cbf7eb54"
  },
  {
   "cell_type": "code",
   "execution_count": null,
   "outputs": [],
   "source": [],
   "metadata": {
    "collapsed": false
   },
   "id": "887db843651f888b"
  }
 ],
 "metadata": {
  "kernelspec": {
   "display_name": "Python 3",
   "language": "python",
   "name": "python3"
  },
  "language_info": {
   "codemirror_mode": {
    "name": "ipython",
    "version": 2
   },
   "file_extension": ".py",
   "mimetype": "text/x-python",
   "name": "python",
   "nbconvert_exporter": "python",
   "pygments_lexer": "ipython2",
   "version": "2.7.6"
  }
 },
 "nbformat": 4,
 "nbformat_minor": 5
}
